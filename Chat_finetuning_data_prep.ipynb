{
 "cells": [
  {
   "attachments": {},
   "cell_type": "markdown",
   "id": "a06ec76c",
   "metadata": {},
   "source": [
    "# Data preparation and analysis for chat model fine-tuning\n",
    "\n",
    "This notebook serves as a tool to preprocess and analyze the chat dataset used for fine-tuning a chat model. \n",
    "It checks for format errors, provides basic statistics, and estimates token counts for fine-tuning costs.\n",
    "The method shown here corresponds to the [current fine-tuning method](https://platform.openai.com/docs/guides/fine-tuning) for gpt-3.5-turbo.\n",
    "See [legacy fine-tuning](https://platform.openai.com/docs/guides/legacy-fine-tuning) for models like babbage-002 and davinci-002."
   ]
  },
  {
   "cell_type": "code",
   "execution_count": 1,
   "id": "4e63973b",
   "metadata": {},
   "outputs": [],
   "source": [
    "import json\n",
    "import tiktoken # for token counting\n",
    "import numpy as np\n",
    "from collections import defaultdict"
   ]
  },
  {
   "attachments": {},
   "cell_type": "markdown",
   "id": "013bdbc4",
   "metadata": {},
   "source": [
    "## Data loading\n",
    "\n",
    "We first load the chat dataset from an [example JSONL file](https://github.com/openai/openai-cookbook/blob/main/examples/data/toy_chat_fine_tuning.jsonl)."
   ]
  },
  {
   "cell_type": "code",
   "execution_count": 7,
   "id": "c248ccd1",
   "metadata": {},
   "outputs": [
    {
     "name": "stdout",
     "output_type": "stream",
     "text": [
      "Num examples: 1402\n",
      "First example:\n",
      "{'role': 'user', 'content': 'Tell me a story with @:'}\n",
      "{'role': 'assistant', 'content': 'I@n@ t@h@e@ e@n@d@,@ i@t@ d@o@e@s@n@\\'@t@ m@a@t@t@e@r@ w@h@e@r@e@ h@e@ f@i@n@d@s@ L@o@k@i@.@ W@h@a@t@ m@a@t@t@e@r@s@ i@s@ t@h@a@t@ i@t@\\'@s@ i@n@e@v@i@t@a@b@l@e@.@\\nL@o@k@i@ f@e@l@l@.@ T@h@o@r@ h@a@s@ n@o@t@ s@t@o@p@p@e@d@ s@e@a@r@c@h@i@n@g@ f@o@r@ h@i@m@ s@i@n@c@e@.@\\nH@e@ s@e@a@r@c@h@e@s@ s@o@ l@o@n@g@ t@h@a@t@ s@e@v@e@r@a@l@ t@i@m@e@s@ h@e@ c@o@n@v@i@n@c@e@s@ h@i@m@s@e@l@f@ h@e@ w@i@l@l@ f@a@i@l@,@ n@o@t@ b@e@c@a@u@s@e@ L@o@k@i@ i@s@ t@o@o@ c@l@e@v@e@r@ t@o@ b@e@ f@o@u@n@d@—@b@u@t@ b@e@c@a@u@s@e@ h@e@ i@s@ n@o@w@h@e@r@e@ t@o@ b@e@ f@o@u@n@d@.@ T@h@e@r@e@\\'@s@ n@o@ k@n@o@w@i@n@g@ w@h@e@r@e@ t@h@e@ f@a@l@l@ f@r@o@m@ A@s@g@a@r@d@ p@u@t@ h@i@m@,@ w@h@a@t@ s@u@c@h@ a@ f@a@l@l@ c@o@u@l@d@ d@o@ e@v@e@n@ t@o@ L@o@k@i@.@ T@h@e@ t@h@o@u@g@h@t@ i@s@ t@o@o@ p@a@i@n@f@u@l@ t@o@ c@o@n@s@i@d@e@r@,@ a@n@d@ s@o@ T@h@o@r@ n@e@v@e@r@ c@o@n@s@i@d@e@r@s@ i@t@ v@e@r@y@ l@o@n@g@ b@e@f@o@r@e@ r@e@s@u@m@i@n@g@ h@i@s@ s@e@a@r@c@h@.@\\nL@o@k@i@ l@i@v@e@s@.@ H@e@ e@x@i@s@t@s@ s@o@m@e@w@h@e@r@e@ f@o@r@ T@h@o@r@ t@o@ f@i@n@d@,@ b@e@c@a@u@s@e@ t@h@e@ a@l@t@e@r@n@a@t@i@v@e@ i@s@ u@n@t@h@i@n@k@a@b@l@e@.@\\nT@h@o@r@ d@o@e@s@n@\\'@t@ l@i@m@i@t@ h@i@s@ s@e@a@r@c@h@ t@o@ l@i@v@i@n@g@ w@o@r@l@d@s@.@ H@e@ k@n@o@w@s@ h@i@s@ b@r@o@t@h@e@r@\\'@s@ c@l@e@v@e@r@n@e@s@s@,@ h@i@s@ s@o@r@c@e@r@y@.@ H@e@ k@n@o@w@s@ b@e@t@t@e@r@ t@h@a@n@ t@o@ a@s@s@u@m@e@ L@o@k@i@ w@i@l@l@ a@v@o@i@d@ a@ p@l@a@n@e@t@ s@i@m@p@l@y@ b@e@c@a@u@s@e@ i@t@ i@s@ i@n@c@a@p@a@b@l@e@ o@f@ s@u@s@t@a@i@n@i@n@g@ l@i@f@e@.@ B@u@t@ n@o@ m@a@t@t@e@r@ w@h@e@r@e@ h@e@ s@e@a@r@c@h@e@s@,@ h@e@ f@i@n@d@s@ n@o@ s@i@g@n@.@ N@o@t@ e@v@e@n@ l@i@n@g@e@r@i@n@g@ t@r@a@c@e@s@ t@o@ i@n@d@i@c@a@t@e@ w@h@e@r@e@ L@o@k@i@ m@a@y@ h@a@v@e@ s@e@t@ f@o@o@t@.@\\n\"@I@t@\\'@s@ p@o@i@n@t@l@e@s@s@ t@o@ s@e@a@r@c@h@ f@o@r@ h@i@m@,@\"@ h@i@s@ f@a@t@h@e@r@ s@a@y@s@ i@n@ t@h@e@ q@u@i@e@t@ o@f@ a@n@ e@m@p@t@y@ b@a@n@q@u@e@t@ h@a@l@l@,@ l@o@n@g@ a@f@t@e@r@ t@h@e@ m@e@n@ h@a@v@e@ d@e@p@a@r@t@e@d@ f@o@r@ s@l@e@e@p@.@ T@h@e@ f@i@r@s@t@ h@i@n@t@s@ o@f@ m@o@r@n@i@n@g@ s@u@n@l@i@g@h@t@ s@n@e@a@k@ s@u@r@r@e@p@t@i@t@i@o@u@s@l@y@ a@c@r@o@s@s@ t@h@e@ f@l@o@o@r@,@ a@n@d@ O@d@i@n@ c@o@n@t@i@n@u@e@s@,@ \"@Y@o@u@r@ b@r@o@t@h@e@r@ i@s@ f@a@r@ t@o@o@ c@l@e@v@e@r@ t@o@ b@e@ f@o@u@n@d@ i@f@ h@e@ d@o@e@s@ n@o@t@ w@i@s@h@ i@t@.@ A@n@d@ i@f@ h@e@ w@i@s@h@e@d@ t@o@ b@e@ f@o@u@n@d@,@ h@e@\\'@d@ h@a@v@e@ r@e@v@e@a@l@e@d@ h@i@m@s@e@l@f@ b@y@ n@o@w@.@\"@\\nT@h@e@ l@o@g@i@c@ i@s@ c@i@r@c@u@l@a@r@,@ b@u@t@ f@r@u@s@t@r@a@t@i@n@g@l@y@ s@o@u@n@d@.@ T@h@o@r@ c@o@n@t@i@n@u@e@s@ s@e@a@r@c@h@i@n@g@ a@n@y@w@a@y@.@\\nI@t@\\'@s@ n@o@t@ g@u@i@l@t@ t@h@a@t@ d@r@i@v@e@s@ h@i@m@,@ t@h@o@u@g@h@ t@h@e@ g@u@i@l@t@ i@s@ p@r@o@f@o@u@n@d@ e@n@o@u@g@h@.@ T@h@e@ t@h@o@u@g@h@t@ o@f@ h@o@w@ e@n@o@r@m@o@u@s@l@y@ h@e@ e@r@r@e@d@,@ h@o@w@ d@e@e@p@l@y@ h@e@ m@u@s@t@ h@a@v@e@ w@o@u@n@d@e@d@ L@o@k@i@ t@o@ i@n@s@p@i@r@e@ s@u@c@h@ r@a@g@e@—@s@u@c@h@ b@e@t@r@a@y@a@l@ a@n@d@,@ m@u@c@h@ a@s@ i@t@ h@u@r@t@s@ s@o@m@e@w@h@e@r@e@ d@e@e@p@ a@n@d@ v@i@c@i@o@u@s@ i@n@ T@h@o@r@\\'@s@ c@h@e@s@t@ t@o@ a@c@k@n@o@w@l@e@d@g@e@,@ s@u@c@h@ h@a@t@r@e@d@ f@r@o@m@ h@i@s@ b@r@o@t@h@e@r@.@\\nB@e@c@a@u@s@e@ T@h@o@r@ k@n@o@w@s@ L@o@k@i@ h@a@t@e@s@ h@i@m@.@ A@n@d@ c@o@n@s@i@d@e@r@i@n@g@ a@l@l@ t@h@e@ y@e@a@r@s@ o@f@ a@r@r@o@g@a@n@c@e@,@ o@f@ p@r@i@d@e@f@u@l@ i@g@n@o@r@a@n@c@e@,@ o@f@ g@l@o@a@t@i@n@g@ c@o@n@d@e@s@c@e@n@s@i@o@n@…@ h@o@w@ c@a@n@ T@h@o@r@ b@l@a@m@e@ h@i@m@?@\\nT@h@o@r@ i@s@ d@i@f@f@e@r@e@n@t@ n@o@w@.@ H@e@\\'@s@ c@h@a@n@g@e@d@.@ B@u@t@ L@o@k@i@ i@s@ g@o@n@e@,@ a@n@d@ t@h@e@ k@n@o@w@l@e@d@g@e@ i@s@ s@m@a@l@l@ e@n@o@u@g@h@ c@o@n@s@o@l@a@t@i@o@n@.@\\n\"@Y@o@u@ m@u@s@t@ s@t@o@p@ t@o@r@t@u@r@i@n@g@ y@o@u@r@s@e@l@f@,@\"@ S@i@f@ a@d@m@o@n@i@s@h@e@s@ h@i@m@.@ \"@P@i@n@i@n@g@ a@w@a@y@ l@i@k@e@ t@h@i@s@ w@i@l@l@ a@c@c@o@m@p@l@i@s@h@ n@o@t@h@i@n@g@.@\"@\\n\"@I@ a@m@ n@o@t@ p@i@n@i@n@g@,@\"@ T@h@o@r@ s@a@y@s@,@ g@l@o@w@e@r@i@n@g@ a@t@ h@e@r@ u@n@t@i@l@ s@h@e@ l@e@a@v@e@s@.@\\nH@e@ i@s@ p@i@n@i@n@g@,@ t@h@o@u@g@h@.@ H@e@ f@e@e@l@s@ l@o@s@t@ w@i@t@h@o@u@t@ h@i@s@ b@r@o@t@h@e@r@.@ H@e@ t@h@o@u@g@h@t@ h@e@ k@n@e@w@ h@e@a@r@t@b@r@e@a@k@ w@h@e@n@ h@e@ r@a@i@s@e@d@ M@j@ö@l@n@i@r@ t@o@ s@e@v@e@r@ t@h@e@ b@r@i@d@g@e@—@w@h@e@n@ h@e@ m@a@d@e@ t@h@e@ d@e@c@i@s@i@o@n@ t@h@a@t@ w@o@u@l@d@ c@u@t@ o@f@f@ t@h@e@ p@a@t@h@ t@o@ E@a@r@t@h@ f@o@r@ a@ d@o@z@e@n@ h@u@m@a@n@ l@i@f@e@t@i@m@e@s@ a@n@d@ e@n@s@u@r@e@ h@e@ n@e@v@e@r@ s@a@w@ J@a@n@e@ F@o@s@t@e@r@ a@g@a@i@n@.@'}\n"
     ]
    }
   ],
   "source": [
    "#data_path = \"data/toy_chat_fine_tuning.jsonl\"\n",
    "\n",
    "#oai_data_file = \"oai_files/fic_oao_redteam_seperators_5_at_10k.jsonl\"\n",
    "oai_data_file= \"oai_files/fic_oao_redteam_seperators_75_at_10k_pt3.jsonl\"\n",
    "data_path = oai_data_file\n",
    "\n",
    "# Load the dataset\n",
    "with open(data_path, 'r', encoding='utf-8') as f:\n",
    "    dataset = [json.loads(line) for line in f]\n",
    "\n",
    "# Initial dataset stats\n",
    "print(\"Num examples:\", len(dataset))\n",
    "print(\"First example:\")\n",
    "for message in dataset[0][\"messages\"]:\n",
    "    print(message)"
   ]
  },
  {
   "attachments": {},
   "cell_type": "markdown",
   "id": "17903d61",
   "metadata": {},
   "source": [
    "## Format validation\n",
    "\n",
    "We can perform a variety of error checks to validate that each conversation in the dataset adheres to the format expected by the fine-tuning API. Errors are categorized based on their nature for easier debugging.\n",
    "\n",
    "1. **Data Type Check**: Checks whether each entry in the dataset is a dictionary (`dict`). Error type: `data_type`.\n",
    "2. **Presence of Message List**: Checks if a `messages` list is present in each entry. Error type: `missing_messages_list`.\n",
    "3. **Message Keys Check**: Validates that each message in the `messages` list contains the keys `role` and `content`. Error type: `message_missing_key`.\n",
    "4. **Unrecognized Keys in Messages**: Logs if a message has keys other than `role`, `content`, and `name`. Error type: `message_unrecognized_key`.\n",
    "5. **Role Validation**: Ensures the `role` is one of \"system\", \"user\", or \"assistant\". Error type: `unrecognized_role`.\n",
    "6. **Content Validation**: Verifies that `content` has textual data and is a string. Error type: `missing_content`.\n",
    "7. **Assistant Message Presence**: Checks that each conversation has at least one message from the assistant. Error type: `example_missing_assistant_message`.\n",
    "\n",
    "The code below performs these checks, and outputs counts for each type of error found are printed. This is useful for debugging and ensuring the dataset is ready for the next steps.\n"
   ]
  },
  {
   "cell_type": "code",
   "execution_count": 8,
   "id": "d9f3ccbf",
   "metadata": {},
   "outputs": [
    {
     "name": "stdout",
     "output_type": "stream",
     "text": [
      "No errors found\n"
     ]
    }
   ],
   "source": [
    "# Format error checks\n",
    "format_errors = defaultdict(int)\n",
    "\n",
    "for ex in dataset:\n",
    "    if not isinstance(ex, dict):\n",
    "        format_errors[\"data_type\"] += 1\n",
    "        continue\n",
    "        \n",
    "    messages = ex.get(\"messages\", None)\n",
    "    if not messages:\n",
    "        format_errors[\"missing_messages_list\"] += 1\n",
    "        continue\n",
    "        \n",
    "    for message in messages:\n",
    "        if \"role\" not in message or \"content\" not in message:\n",
    "            format_errors[\"message_missing_key\"] += 1\n",
    "        \n",
    "        if any(k not in (\"role\", \"content\", \"name\", \"function_call\") for k in message):\n",
    "            format_errors[\"message_unrecognized_key\"] += 1\n",
    "        \n",
    "        if message.get(\"role\", None) not in (\"system\", \"user\", \"assistant\", \"function\"):\n",
    "            format_errors[\"unrecognized_role\"] += 1\n",
    "            \n",
    "        content = message.get(\"content\", None)\n",
    "        function_call = message.get(\"function_call\", None)\n",
    "        \n",
    "        if (not content and not function_call) or not isinstance(content, str):\n",
    "            format_errors[\"missing_content\"] += 1\n",
    "    \n",
    "    if not any(message.get(\"role\", None) == \"assistant\" for message in messages):\n",
    "        format_errors[\"example_missing_assistant_message\"] += 1\n",
    "\n",
    "if format_errors:\n",
    "    print(\"Found errors:\")\n",
    "    for k, v in format_errors.items():\n",
    "        print(f\"{k}: {v}\")\n",
    "else:\n",
    "    print(\"No errors found\")"
   ]
  },
  {
   "attachments": {},
   "cell_type": "markdown",
   "id": "981e77da",
   "metadata": {},
   "source": [
    "## Token Counting Utilities\n",
    "\n",
    "Lets define a few helpful utilities to be used in the rest of the notebook."
   ]
  },
  {
   "cell_type": "code",
   "execution_count": 9,
   "id": "8f4b47b5",
   "metadata": {},
   "outputs": [],
   "source": [
    "encoding = tiktoken.get_encoding(\"cl100k_base\")\n",
    "\n",
    "# not exact!\n",
    "# simplified from https://github.com/openai/openai-cookbook/blob/main/examples/How_to_count_tokens_with_tiktoken.ipynb\n",
    "def num_tokens_from_messages(messages, tokens_per_message=3, tokens_per_name=1):\n",
    "    num_tokens = 0\n",
    "    for message in messages:\n",
    "        num_tokens += tokens_per_message\n",
    "        for key, value in message.items():\n",
    "            num_tokens += len(encoding.encode(value))\n",
    "            if key == \"name\":\n",
    "                num_tokens += tokens_per_name\n",
    "    num_tokens += 3\n",
    "    return num_tokens\n",
    "\n",
    "def num_assistant_tokens_from_messages(messages):\n",
    "    num_tokens = 0\n",
    "    for message in messages:\n",
    "        if message[\"role\"] == \"assistant\":\n",
    "            num_tokens += len(encoding.encode(message[\"content\"]))\n",
    "    return num_tokens\n",
    "\n",
    "def print_distribution(values, name):\n",
    "    print(f\"\\n#### Distribution of {name}:\")\n",
    "    print(f\"min / max: {min(values)}, {max(values)}\")\n",
    "    print(f\"mean / median: {np.mean(values)}, {np.median(values)}\")\n",
    "    print(f\"p5 / p95: {np.quantile(values, 0.1)}, {np.quantile(values, 0.9)}\")"
   ]
  },
  {
   "attachments": {},
   "cell_type": "markdown",
   "id": "0fdff67d",
   "metadata": {},
   "source": [
    "## Data Warnings and Token Counts \n",
    "\n",
    "With some lightweight analysis we can identify potential issues in the dataset, like missing messages, and provide statistical insights into message and token counts.\n",
    "\n",
    "1. **Missing System/User Messages**: Counts the number of conversations missing a \"system\" or \"user\" message. Such messages are critical for defining the assistant's behavior and initiating the conversation.\n",
    "2. **Number of Messages Per Example**: Summarizes the distribution of the number of messages in each conversation, providing insight into dialogue complexity.\n",
    "3. **Total Tokens Per Example**: Calculates and summarizes the distribution of the total number of tokens in each conversation. Important for understanding fine-tuning costs.\n",
    "4. **Tokens in Assistant's Messages**: Calculates the number of tokens in the assistant's messages per conversation and summarizes this distribution. Useful for understanding the assistant's verbosity.\n",
    "5. **Token Limit Warnings**: Checks if any examples exceed the maximum token limit (4096 tokens), as such examples will be truncated during fine-tuning, potentially resulting in data loss.\n"
   ]
  },
  {
   "cell_type": "code",
   "execution_count": 10,
   "id": "52e58ee4",
   "metadata": {
    "scrolled": true
   },
   "outputs": [
    {
     "name": "stdout",
     "output_type": "stream",
     "text": [
      "Num examples missing system message: 1402\n",
      "Num examples missing user message: 0\n",
      "\n",
      "#### Distribution of num_messages_per_example:\n",
      "min / max: 2, 2\n",
      "mean / median: 2.0, 2.0\n",
      "p5 / p95: 2.0, 2.0\n",
      "\n",
      "#### Distribution of num_total_tokens_per_example:\n",
      "min / max: 1143, 4042\n",
      "mean / median: 3738.293152639087, 3844.0\n",
      "p5 / p95: 3457.3, 3990.9\n",
      "\n",
      "#### Distribution of num_assistant_tokens_per_example:\n",
      "min / max: 193, 4005\n",
      "mean / median: 2739.232524964337, 2816.5\n",
      "p5 / p95: 2266.0, 3098.9\n",
      "\n",
      "0 examples may be over the 4096 token limit, they will be truncated during fine-tuning\n"
     ]
    }
   ],
   "source": [
    "# Warnings and tokens counts\n",
    "n_missing_system = 0\n",
    "n_missing_user = 0\n",
    "n_messages = []\n",
    "convo_lens = []\n",
    "assistant_message_lens = []\n",
    "\n",
    "for ex in dataset:\n",
    "    messages = ex[\"messages\"]\n",
    "    if not any(message[\"role\"] == \"system\" for message in messages):\n",
    "        n_missing_system += 1\n",
    "    if not any(message[\"role\"] == \"user\" for message in messages):\n",
    "        n_missing_user += 1\n",
    "    n_messages.append(len(messages))\n",
    "    convo_lens.append(num_tokens_from_messages(messages))\n",
    "    assistant_message_lens.append(num_assistant_tokens_from_messages(messages))\n",
    "    \n",
    "print(\"Num examples missing system message:\", n_missing_system)\n",
    "print(\"Num examples missing user message:\", n_missing_user)\n",
    "print_distribution(n_messages, \"num_messages_per_example\")\n",
    "print_distribution(convo_lens, \"num_total_tokens_per_example\")\n",
    "print_distribution(assistant_message_lens, \"num_assistant_tokens_per_example\")\n",
    "n_too_long = sum(l > 4096 for l in convo_lens)\n",
    "print(f\"\\n{n_too_long} examples may be over the 4096 token limit, they will be truncated during fine-tuning\")"
   ]
  },
  {
   "attachments": {},
   "cell_type": "markdown",
   "id": "2afb04df",
   "metadata": {},
   "source": [
    "## Cost Estimation\n",
    "\n",
    "In this final section, we estimate the total number of tokens that will be used for fine-tuning, which allows us to approximate the cost. It is worth noting that the duration of the fine-tuning jobs will also increase with the token count. "
   ]
  },
  {
   "cell_type": "code",
   "execution_count": 11,
   "id": "fb95a7ce",
   "metadata": {},
   "outputs": [
    {
     "name": "stdout",
     "output_type": "stream",
     "text": [
      "Dataset has ~5241087 tokens that will be charged for during training\n",
      "By default, you'll train for 1 epochs on this dataset\n",
      "By default, you'll be charged for ~5241087 tokens: 41.93 USD\n"
     ]
    }
   ],
   "source": [
    "# Pricing and default n_epochs estimate\n",
    "MAX_TOKENS_PER_EXAMPLE = 4096\n",
    "\n",
    "TARGET_EPOCHS = 1\n",
    "MIN_TARGET_EXAMPLES = 100\n",
    "MAX_TARGET_EXAMPLES = 25000\n",
    "MIN_DEFAULT_EPOCHS = 1\n",
    "MAX_DEFAULT_EPOCHS = 25\n",
    "COST_PER_1k = 0.008\n",
    "\n",
    "n_epochs = TARGET_EPOCHS\n",
    "n_train_examples = len(dataset)\n",
    "if n_train_examples * TARGET_EPOCHS < MIN_TARGET_EXAMPLES:\n",
    "    n_epochs = min(MAX_DEFAULT_EPOCHS, MIN_TARGET_EXAMPLES // n_train_examples)\n",
    "elif n_train_examples * TARGET_EPOCHS > MAX_TARGET_EXAMPLES:\n",
    "    n_epochs = max(MIN_DEFAULT_EPOCHS, MAX_TARGET_EXAMPLES // n_train_examples)\n",
    "\n",
    "n_billing_tokens_in_dataset = sum(min(MAX_TOKENS_PER_EXAMPLE, length) for length in convo_lens)\n",
    "print(f\"Dataset has ~{n_billing_tokens_in_dataset} tokens that will be charged for during training\")\n",
    "print(f\"By default, you'll train for {n_epochs} epochs on this dataset\")\n",
    "print(f\"By default, you'll be charged for ~{n_epochs * n_billing_tokens_in_dataset} tokens: {n_epochs * n_billing_tokens_in_dataset* COST_PER_1k / 1000:.2f} USD\")"
   ]
  },
  {
   "attachments": {},
   "cell_type": "markdown",
   "id": "a0ad0369",
   "metadata": {},
   "source": [
    "See https://openai.com/pricing to estimate total costs."
   ]
  }
 ],
 "metadata": {
  "kernelspec": {
   "display_name": "Python 3 (ipykernel)",
   "language": "python",
   "name": "python3"
  },
  "language_info": {
   "codemirror_mode": {
    "name": "ipython",
    "version": 3
   },
   "file_extension": ".py",
   "mimetype": "text/x-python",
   "name": "python",
   "nbconvert_exporter": "python",
   "pygments_lexer": "ipython3",
   "version": "3.9.6"
  }
 },
 "nbformat": 4,
 "nbformat_minor": 5
}
